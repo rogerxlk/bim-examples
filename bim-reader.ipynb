{
 "cells": [
  {
   "cell_type": "code",
   "execution_count": 1,
   "id": "initial_id",
   "metadata": {
    "collapsed": true,
    "ExecuteTime": {
     "end_time": "2023-09-27T20:48:58.296832Z",
     "start_time": "2023-09-27T20:48:55.779320Z"
    }
   },
   "outputs": [
    {
     "name": "stdout",
     "output_type": "stream",
     "text": [
      "Requirement already satisfied: ifcopenshell in /usr/local/anaconda3/lib/python3.9/site-packages (0.7.0.230918)\r\n",
      "\r\n",
      "\u001B[1m[\u001B[0m\u001B[34;49mnotice\u001B[0m\u001B[1;39;49m]\u001B[0m\u001B[39;49m A new release of pip is available: \u001B[0m\u001B[31;49m23.0.1\u001B[0m\u001B[39;49m -> \u001B[0m\u001B[32;49m23.2.1\u001B[0m\r\n",
      "\u001B[1m[\u001B[0m\u001B[34;49mnotice\u001B[0m\u001B[1;39;49m]\u001B[0m\u001B[39;49m To update, run: \u001B[0m\u001B[32;49mpip install --upgrade pip\u001B[0m\r\n"
     ]
    }
   ],
   "source": [
    "!pip install ifcopenshell"
   ]
  },
  {
   "cell_type": "code",
   "execution_count": 2,
   "outputs": [
    {
     "name": "stderr",
     "output_type": "stream",
     "text": [
      "No stream support: No module named 'lark'\n"
     ]
    }
   ],
   "source": [
    "import ifcopenshell\n",
    "import pandas as pd\n",
    "\n",
    "# Load the IFC file\n",
    "file_path = 'BasicHouse/IFC/BasicHouse.ifc'\n",
    "ifc_file = ifcopenshell.open(file_path)\n"
   ],
   "metadata": {
    "collapsed": false,
    "ExecuteTime": {
     "end_time": "2023-09-27T20:49:05.935878Z",
     "start_time": "2023-09-27T20:48:58.302445Z"
    }
   },
   "id": "f407aed898cc5c34"
  },
  {
   "cell_type": "code",
   "execution_count": null,
   "outputs": [],
   "source": [
    "def generate_dataframes_from_ifc(ifc_file):\n",
    "    dataframes = {}\n",
    "    \n",
    "    # Iterate through each entity in the IFC file\n",
    "    for entity in ifc_file:\n",
    "        entity_type = entity.is_a()\n",
    "        \n",
    "        # If this entity type isn't in our dictionary yet, add an empty DataFrame\n",
    "        if entity_type not in dataframes:\n",
    "            dataframes[entity_type] = pd.DataFrame()\n",
    "        \n",
    "        # Convert entity's attributes to a pandas Series\n",
    "        entity_series = pd.Series(entity.get_info())\n",
    "\n",
    "        # Use pandas.concat to append the series to the appropriate DataFrame\n",
    "        dataframes[entity_type] = pd.concat([dataframes[entity_type], entity_series.to_frame().T], ignore_index=True)\n",
    "        \n",
    "    return dataframes\n",
    "\n",
    "dfs = generate_dataframes_from_ifc(ifc_file)\n"
   ],
   "metadata": {
    "collapsed": false,
    "is_executing": true,
    "ExecuteTime": {
     "start_time": "2023-09-27T20:49:06.042061Z"
    }
   },
   "id": "d8a3db6091c07355"
  },
  {
   "cell_type": "code",
   "execution_count": null,
   "outputs": [],
   "source": [
    "# List all entity types found\n",
    "for entity_type in dfs.keys():\n",
    "    print(entity_type)\n",
    "\n",
    "# Display the DataFrame for a specific entity type, e.g., \"IfcWall\"\n",
    "dfs[\"IfcWallType\"]\n"
   ],
   "metadata": {
    "collapsed": false,
    "is_executing": true
   },
   "id": "6f264ac05a65d5a4"
  },
  {
   "cell_type": "code",
   "execution_count": null,
   "outputs": [],
   "source": [
    "print(dfs[\"IfcWallType\"])"
   ],
   "metadata": {
    "collapsed": false,
    "is_executing": true
   },
   "id": "11a140894e92aee2"
  },
  {
   "cell_type": "code",
   "execution_count": null,
   "outputs": [],
   "source": [],
   "metadata": {
    "collapsed": false,
    "is_executing": true
   },
   "id": "8ada10d9291bf4ce"
  }
 ],
 "metadata": {
  "kernelspec": {
   "display_name": "Python 3",
   "language": "python",
   "name": "python3"
  },
  "language_info": {
   "codemirror_mode": {
    "name": "ipython",
    "version": 2
   },
   "file_extension": ".py",
   "mimetype": "text/x-python",
   "name": "python",
   "nbconvert_exporter": "python",
   "pygments_lexer": "ipython2",
   "version": "2.7.6"
  }
 },
 "nbformat": 4,
 "nbformat_minor": 5
}
